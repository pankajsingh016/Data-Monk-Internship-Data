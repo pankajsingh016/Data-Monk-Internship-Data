{
 "cells": [
  {
   "cell_type": "code",
   "execution_count": 3,
   "id": "ba4da83b",
   "metadata": {},
   "outputs": [
    {
     "name": "stdout",
     "output_type": "stream",
     "text": [
      "shape: (2, 2)\n",
      "┌────────┬─────┐\n",
      "│ Sex    ┆ len │\n",
      "│ ---    ┆ --- │\n",
      "│ str    ┆ u32 │\n",
      "╞════════╪═════╡\n",
      "│ female ┆ 48  │\n",
      "│ male   ┆ 102 │\n",
      "└────────┴─────┘\n"
     ]
    }
   ],
   "source": [
    "import polars as pl\n",
    "\n",
    "q = (\n",
    "    pl.scan_csv(\"titanic.csv\")\n",
    "    .filter(pl.col(\"Age\") > 40)\n",
    "    .group_by(\"Sex\")\n",
    "    .agg(pl.len())\n",
    ")\n",
    "\n",
    "df_q = q.collect()\n",
    "\n",
    "print(df)"
   ]
  },
  {
   "cell_type": "code",
   "execution_count": 5,
   "id": "12586505",
   "metadata": {},
   "outputs": [
    {
     "name": "stdout",
     "output_type": "stream",
     "text": [
      "shape: (5, 12)\n",
      "┌─────────────┬──────────┬────────┬───────────────────┬───┬───────────┬─────────┬───────┬──────────┐\n",
      "│ PassengerId ┆ Survived ┆ Pclass ┆ Name              ┆ … ┆ Ticket    ┆ Fare    ┆ Cabin ┆ Embarked │\n",
      "│ ---         ┆ ---      ┆ ---    ┆ ---               ┆   ┆ ---       ┆ ---     ┆ ---   ┆ ---      │\n",
      "│ i64         ┆ i64      ┆ i64    ┆ str               ┆   ┆ str       ┆ f64     ┆ str   ┆ str      │\n",
      "╞═════════════╪══════════╪════════╪═══════════════════╪═══╪═══════════╪═════════╪═══════╪══════════╡\n",
      "│ 1           ┆ 0        ┆ 3      ┆ Braund, Mr. Owen  ┆ … ┆ A/5 21171 ┆ 7.25    ┆ null  ┆ S        │\n",
      "│             ┆          ┆        ┆ Harris            ┆   ┆           ┆         ┆       ┆          │\n",
      "│ 2           ┆ 1        ┆ 1      ┆ Cumings, Mrs.     ┆ … ┆ PC 17599  ┆ 71.2833 ┆ C85   ┆ C        │\n",
      "│             ┆          ┆        ┆ John Bradley (Fl… ┆   ┆           ┆         ┆       ┆          │\n",
      "│ 3           ┆ 1        ┆ 3      ┆ Heikkinen, Miss.  ┆ … ┆ STON/O2.  ┆ 7.925   ┆ null  ┆ S        │\n",
      "│             ┆          ┆        ┆ Laina             ┆   ┆ 3101282   ┆         ┆       ┆          │\n",
      "│ 4           ┆ 1        ┆ 1      ┆ Futrelle, Mrs.    ┆ … ┆ 113803    ┆ 53.1    ┆ C123  ┆ S        │\n",
      "│             ┆          ┆        ┆ Jacques Heath (…  ┆   ┆           ┆         ┆       ┆          │\n",
      "│ 5           ┆ 0        ┆ 3      ┆ Allen, Mr.        ┆ … ┆ 373450    ┆ 8.05    ┆ null  ┆ S        │\n",
      "│             ┆          ┆        ┆ William Henry     ┆   ┆           ┆         ┆       ┆          │\n",
      "└─────────────┴──────────┴────────┴───────────────────┴───┴───────────┴─────────┴───────┴──────────┘\n"
     ]
    }
   ],
   "source": [
    "df = pl.read_csv(\"titanic.csv\")\n",
    "print(df.head())"
   ]
  },
  {
   "cell_type": "code",
   "execution_count": 6,
   "id": "6cba155f",
   "metadata": {},
   "outputs": [
    {
     "data": {
      "text/html": [
       "<div><style>\n",
       ".dataframe > thead > tr,\n",
       ".dataframe > tbody > tr {\n",
       "  text-align: right;\n",
       "  white-space: pre-wrap;\n",
       "}\n",
       "</style>\n",
       "<small>shape: (9, 13)</small><table border=\"1\" class=\"dataframe\"><thead><tr><th>statistic</th><th>PassengerId</th><th>Survived</th><th>Pclass</th><th>Name</th><th>Sex</th><th>Age</th><th>SibSp</th><th>Parch</th><th>Ticket</th><th>Fare</th><th>Cabin</th><th>Embarked</th></tr><tr><td>str</td><td>f64</td><td>f64</td><td>f64</td><td>str</td><td>str</td><td>f64</td><td>f64</td><td>f64</td><td>str</td><td>f64</td><td>str</td><td>str</td></tr></thead><tbody><tr><td>&quot;count&quot;</td><td>891.0</td><td>891.0</td><td>891.0</td><td>&quot;891&quot;</td><td>&quot;891&quot;</td><td>714.0</td><td>891.0</td><td>891.0</td><td>&quot;891&quot;</td><td>891.0</td><td>&quot;204&quot;</td><td>&quot;889&quot;</td></tr><tr><td>&quot;null_count&quot;</td><td>0.0</td><td>0.0</td><td>0.0</td><td>&quot;0&quot;</td><td>&quot;0&quot;</td><td>177.0</td><td>0.0</td><td>0.0</td><td>&quot;0&quot;</td><td>0.0</td><td>&quot;687&quot;</td><td>&quot;2&quot;</td></tr><tr><td>&quot;mean&quot;</td><td>446.0</td><td>0.383838</td><td>2.308642</td><td>null</td><td>null</td><td>29.699118</td><td>0.523008</td><td>0.381594</td><td>null</td><td>32.204208</td><td>null</td><td>null</td></tr><tr><td>&quot;std&quot;</td><td>257.353842</td><td>0.486592</td><td>0.836071</td><td>null</td><td>null</td><td>14.526497</td><td>1.102743</td><td>0.806057</td><td>null</td><td>49.693429</td><td>null</td><td>null</td></tr><tr><td>&quot;min&quot;</td><td>1.0</td><td>0.0</td><td>1.0</td><td>&quot;Abbing, Mr. Anthony&quot;</td><td>&quot;female&quot;</td><td>0.42</td><td>0.0</td><td>0.0</td><td>&quot;110152&quot;</td><td>0.0</td><td>&quot;A10&quot;</td><td>&quot;C&quot;</td></tr><tr><td>&quot;25%&quot;</td><td>224.0</td><td>0.0</td><td>2.0</td><td>null</td><td>null</td><td>20.0</td><td>0.0</td><td>0.0</td><td>null</td><td>7.925</td><td>null</td><td>null</td></tr><tr><td>&quot;50%&quot;</td><td>446.0</td><td>0.0</td><td>3.0</td><td>null</td><td>null</td><td>28.0</td><td>0.0</td><td>0.0</td><td>null</td><td>14.4542</td><td>null</td><td>null</td></tr><tr><td>&quot;75%&quot;</td><td>669.0</td><td>1.0</td><td>3.0</td><td>null</td><td>null</td><td>38.0</td><td>1.0</td><td>0.0</td><td>null</td><td>31.0</td><td>null</td><td>null</td></tr><tr><td>&quot;max&quot;</td><td>891.0</td><td>1.0</td><td>3.0</td><td>&quot;van Melkebeke, Mr. Philemon&quot;</td><td>&quot;male&quot;</td><td>80.0</td><td>8.0</td><td>6.0</td><td>&quot;WE/P 5735&quot;</td><td>512.3292</td><td>&quot;T&quot;</td><td>&quot;S&quot;</td></tr></tbody></table></div>"
      ],
      "text/plain": [
       "shape: (9, 13)\n",
       "┌────────────┬─────────────┬──────────┬──────────┬───┬───────────┬───────────┬───────┬──────────┐\n",
       "│ statistic  ┆ PassengerId ┆ Survived ┆ Pclass   ┆ … ┆ Ticket    ┆ Fare      ┆ Cabin ┆ Embarked │\n",
       "│ ---        ┆ ---         ┆ ---      ┆ ---      ┆   ┆ ---       ┆ ---       ┆ ---   ┆ ---      │\n",
       "│ str        ┆ f64         ┆ f64      ┆ f64      ┆   ┆ str       ┆ f64       ┆ str   ┆ str      │\n",
       "╞════════════╪═════════════╪══════════╪══════════╪═══╪═══════════╪═══════════╪═══════╪══════════╡\n",
       "│ count      ┆ 891.0       ┆ 891.0    ┆ 891.0    ┆ … ┆ 891       ┆ 891.0     ┆ 204   ┆ 889      │\n",
       "│ null_count ┆ 0.0         ┆ 0.0      ┆ 0.0      ┆ … ┆ 0         ┆ 0.0       ┆ 687   ┆ 2        │\n",
       "│ mean       ┆ 446.0       ┆ 0.383838 ┆ 2.308642 ┆ … ┆ null      ┆ 32.204208 ┆ null  ┆ null     │\n",
       "│ std        ┆ 257.353842  ┆ 0.486592 ┆ 0.836071 ┆ … ┆ null      ┆ 49.693429 ┆ null  ┆ null     │\n",
       "│ min        ┆ 1.0         ┆ 0.0      ┆ 1.0      ┆ … ┆ 110152    ┆ 0.0       ┆ A10   ┆ C        │\n",
       "│ 25%        ┆ 224.0       ┆ 0.0      ┆ 2.0      ┆ … ┆ null      ┆ 7.925     ┆ null  ┆ null     │\n",
       "│ 50%        ┆ 446.0       ┆ 0.0      ┆ 3.0      ┆ … ┆ null      ┆ 14.4542   ┆ null  ┆ null     │\n",
       "│ 75%        ┆ 669.0       ┆ 1.0      ┆ 3.0      ┆ … ┆ null      ┆ 31.0      ┆ null  ┆ null     │\n",
       "│ max        ┆ 891.0       ┆ 1.0      ┆ 3.0      ┆ … ┆ WE/P 5735 ┆ 512.3292  ┆ T     ┆ S        │\n",
       "└────────────┴─────────────┴──────────┴──────────┴───┴───────────┴───────────┴───────┴──────────┘"
      ]
     },
     "execution_count": 6,
     "metadata": {},
     "output_type": "execute_result"
    }
   ],
   "source": [
    "df.describe()"
   ]
  },
  {
   "cell_type": "code",
   "execution_count": 7,
   "id": "a696eed1",
   "metadata": {},
   "outputs": [],
   "source": [
    "df_clean = (\n",
    "    df.drop_nulls(\"Age\")\n",
    "    .filter(pl.col(\"Fare\") > 100)\n",
    ")"
   ]
  },
  {
   "cell_type": "code",
   "execution_count": 8,
   "id": "fe020fdc",
   "metadata": {},
   "outputs": [
    {
     "data": {
      "text/html": [
       "<div><style>\n",
       ".dataframe > thead > tr,\n",
       ".dataframe > tbody > tr {\n",
       "  text-align: right;\n",
       "  white-space: pre-wrap;\n",
       "}\n",
       "</style>\n",
       "<small>shape: (3, 2)</small><table border=\"1\" class=\"dataframe\"><thead><tr><th>Pclass</th><th>Fare</th></tr><tr><td>i64</td><td>f64</td></tr></thead><tbody><tr><td>2</td><td>20.662183</td></tr><tr><td>1</td><td>84.154687</td></tr><tr><td>3</td><td>13.67555</td></tr></tbody></table></div>"
      ],
      "text/plain": [
       "shape: (3, 2)\n",
       "┌────────┬───────────┐\n",
       "│ Pclass ┆ Fare      │\n",
       "│ ---    ┆ ---       │\n",
       "│ i64    ┆ f64       │\n",
       "╞════════╪═══════════╡\n",
       "│ 2      ┆ 20.662183 │\n",
       "│ 1      ┆ 84.154687 │\n",
       "│ 3      ┆ 13.67555  │\n",
       "└────────┴───────────┘"
      ]
     },
     "execution_count": 8,
     "metadata": {},
     "output_type": "execute_result"
    }
   ],
   "source": [
    "df.group_by(\"Pclass\").agg(pl.col(\"Fare\").mean())"
   ]
  },
  {
   "cell_type": "code",
   "execution_count": 9,
   "id": "38059a85",
   "metadata": {},
   "outputs": [],
   "source": [
    "df_clean.write_parquet(\"cleaned.parquet\")\n",
    "df_new = pl.read_parquet(\"cleaned.parquet\")"
   ]
  },
  {
   "cell_type": "code",
   "execution_count": 10,
   "id": "61530449",
   "metadata": {},
   "outputs": [
    {
     "name": "stdout",
     "output_type": "stream",
     "text": [
      "shape: (3, 2)\n",
      "┌──────────┬─────────────────────┐\n",
      "│ event    ┆ timestamp           │\n",
      "│ ---      ┆ ---                 │\n",
      "│ str      ┆ datetime[μs]        │\n",
      "╞══════════╪═════════════════════╡\n",
      "│ login    ┆ 2025-08-26 10:30:00 │\n",
      "│ logout   ┆ 2025-08-26 12:15:00 │\n",
      "│ purchase ┆ 2025-08-26 14:05:30 │\n",
      "└──────────┴─────────────────────┘\n"
     ]
    }
   ],
   "source": [
    "import polars as pl\n",
    "\n",
    "# Create a small CSV with timestamps\n",
    "with open(\"events.csv\", \"w\") as f:\n",
    "    f.write(\"event,timestamp\\n\")\n",
    "    f.write(\"login,2025-08-26 10:30:00\\n\")\n",
    "    f.write(\"logout,2025-08-26 12:15:00\\n\")\n",
    "    f.write(\"purchase,2025-08-26 14:05:30\\n\")\n",
    "\n",
    "# Load the CSV\n",
    "df_events = pl.read_csv(\"events.csv\")\n",
    "\n",
    "# Convert timestamp column to proper datetime\n",
    "df_events = df_events.with_columns(\n",
    "    pl.col(\"timestamp\").str.strptime(pl.Datetime, \"%Y-%m-%d %H:%M:%S\")\n",
    ")\n",
    "\n",
    "print(df_events)"
   ]
  },
  {
   "cell_type": "code",
   "execution_count": 11,
   "id": "af2207dc",
   "metadata": {},
   "outputs": [],
   "source": [
    "### Titanic DB exploration\n",
    "\n",
    "df = pl.read_csv(\"titanic.csv\")\n",
    "\n",
    "df = df.drop_nulls(subset=[\"Age\",\"Fare\",\"Embarked\"])"
   ]
  },
  {
   "cell_type": "code",
   "execution_count": 13,
   "id": "c276b7da",
   "metadata": {},
   "outputs": [],
   "source": [
    "df = df.with_columns(\n",
    "    pl.when(pl.col(\"Age\") < 18).then(pl.lit(\"Child\"))\n",
    "    .when((pl.col(\"Age\") >= 18) & (pl.col(\"Age\") <= 60)).then(pl.lit(\"Adult\"))\n",
    "    .when(pl.col(\"Age\") > 60).then(pl.lit(\"Senior\"))\n",
    "    .otherwise(pl.lit(\"Unknown\"))\n",
    "    .alias(\"Age_Group\")\n",
    ")"
   ]
  },
  {
   "cell_type": "code",
   "execution_count": 14,
   "id": "317db4ec",
   "metadata": {},
   "outputs": [
    {
     "name": "stdout",
     "output_type": "stream",
     "text": [
      "shape: (5, 13)\n",
      "┌─────────────┬──────────┬────────┬──────────────┬───┬────────┬─────────────┬──────────┬───────────┐\n",
      "│ PassengerId ┆ Survived ┆ Pclass ┆ Name         ┆ … ┆ Fare   ┆ Cabin       ┆ Embarked ┆ Age_Group │\n",
      "│ ---         ┆ ---      ┆ ---    ┆ ---          ┆   ┆ ---    ┆ ---         ┆ ---      ┆ ---       │\n",
      "│ i64         ┆ i64      ┆ i64    ┆ str          ┆   ┆ f64    ┆ str         ┆ str      ┆ str       │\n",
      "╞═════════════╪══════════╪════════╪══════════════╪═══╪════════╪═════════════╪══════════╪═══════════╡\n",
      "│ 379         ┆ 0        ┆ 3      ┆ Betros, Mr.  ┆ … ┆ 4.0125 ┆ null        ┆ C        ┆ Adult     │\n",
      "│             ┆          ┆        ┆ Tannous      ┆   ┆        ┆             ┆          ┆           │\n",
      "│ 873         ┆ 0        ┆ 1      ┆ Carlsson,    ┆ … ┆ 5.0    ┆ B51 B53 B55 ┆ S        ┆ Adult     │\n",
      "│             ┆          ┆        ┆ Mr. Frans    ┆   ┆        ┆             ┆          ┆           │\n",
      "│             ┆          ┆        ┆ Olof         ┆   ┆        ┆             ┆          ┆           │\n",
      "│ 327         ┆ 0        ┆ 3      ┆ Nysveen, Mr. ┆ … ┆ 6.2375 ┆ null        ┆ S        ┆ Senior    │\n",
      "│             ┆          ┆        ┆ Johan Hansen ┆   ┆        ┆             ┆          ┆           │\n",
      "│ 844         ┆ 0        ┆ 3      ┆ Lemberopolou ┆ … ┆ 6.4375 ┆ null        ┆ C        ┆ Adult     │\n",
      "│             ┆          ┆        ┆ s, Mr. Peter ┆   ┆        ┆             ┆          ┆           │\n",
      "│             ┆          ┆        ┆ L            ┆   ┆        ┆             ┆          ┆           │\n",
      "│ 819         ┆ 0        ┆ 3      ┆ Holm, Mr.    ┆ … ┆ 6.45   ┆ null        ┆ S        ┆ Adult     │\n",
      "│             ┆          ┆        ┆ John Fredrik ┆   ┆        ┆             ┆          ┆           │\n",
      "│             ┆          ┆        ┆ Alexand…     ┆   ┆        ┆             ┆          ┆           │\n",
      "└─────────────┴──────────┴────────┴──────────────┴───┴────────┴─────────────┴──────────┴───────────┘\n"
     ]
    }
   ],
   "source": [
    "df = df.filter(pl.col(\"Fare\") > 0)\n",
    "df = df.sort(\"Fare\", descending=False)\n",
    "df.write_parquet(\"titanic_cleaned.parquet\")\n",
    "print(df.head())"
   ]
  },
  {
   "cell_type": "code",
   "execution_count": null,
   "id": "283c6e7a",
   "metadata": {},
   "outputs": [],
   "source": []
  }
 ],
 "metadata": {
  "kernelspec": {
   "display_name": "dataeng",
   "language": "python",
   "name": "python3"
  },
  "language_info": {
   "codemirror_mode": {
    "name": "ipython",
    "version": 3
   },
   "file_extension": ".py",
   "mimetype": "text/x-python",
   "name": "python",
   "nbconvert_exporter": "python",
   "pygments_lexer": "ipython3",
   "version": "3.10.18"
  }
 },
 "nbformat": 4,
 "nbformat_minor": 5
}
