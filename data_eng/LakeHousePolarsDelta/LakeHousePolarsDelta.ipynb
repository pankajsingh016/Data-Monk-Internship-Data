{
 "cells": [
  {
   "cell_type": "code",
   "execution_count": 1,
   "id": "29e2b9cb",
   "metadata": {},
   "outputs": [],
   "source": [
    "import polars as pl\n",
    "df = pl.read_csv(\"hourly_weather.csv\")"
   ]
  },
  {
   "cell_type": "code",
   "execution_count": 2,
   "id": "61d29d89",
   "metadata": {},
   "outputs": [
    {
     "data": {
      "text/html": [
       "<div><style>\n",
       ".dataframe > thead > tr,\n",
       ".dataframe > tbody > tr {\n",
       "  text-align: right;\n",
       "  white-space: pre-wrap;\n",
       "}\n",
       "</style>\n",
       "<small>shape: (5, 10)</small><table border=\"1\" class=\"dataframe\"><thead><tr><th>id</th><th>city</th><th>lat</th><th>lon</th><th>temp</th><th>humidity</th><th>weather</th><th>utc_timestamp</th><th>country</th><th>local_timestamp</th></tr><tr><td>i64</td><td>str</td><td>f64</td><td>f64</td><td>f64</td><td>i64</td><td>str</td><td>str</td><td>str</td><td>str</td></tr></thead><tbody><tr><td>1</td><td>&quot;New Delhi&quot;</td><td>28.61282</td><td>77.23114</td><td>29.32</td><td>69</td><td>&quot;overcast clouds&quot;</td><td>&quot;2025-08-12 07:04:18&quot;</td><td>&quot;IN&quot;</td><td>&quot;2025-08-12 12:34:18&quot;</td></tr><tr><td>2</td><td>&quot;Bhopal&quot;</td><td>23.26667</td><td>77.400002</td><td>26.55</td><td>72</td><td>&quot;broken clouds&quot;</td><td>&quot;2025-08-12 06:53:16&quot;</td><td>&quot;IN&quot;</td><td>&quot;2025-08-12 12:23:16&quot;</td></tr><tr><td>3</td><td>&quot;Jaipur&quot;</td><td>23.433331</td><td>86.133331</td><td>34.17</td><td>48</td><td>&quot;overcast clouds&quot;</td><td>&quot;2025-08-12 06:56:34&quot;</td><td>&quot;IN&quot;</td><td>&quot;2025-08-12 12:26:34&quot;</td></tr><tr><td>4</td><td>&quot;Bengaluru&quot;</td><td>12.97623</td><td>77.603287</td><td>26.48</td><td>69</td><td>&quot;overcast clouds&quot;</td><td>&quot;2025-08-12 07:02:02&quot;</td><td>&quot;IN&quot;</td><td>&quot;2025-08-12 12:32:02&quot;</td></tr><tr><td>6</td><td>&quot;Bhopal&quot;</td><td>23.26667</td><td>77.400002</td><td>26.67</td><td>72</td><td>&quot;broken clouds&quot;</td><td>&quot;2025-08-12 07:10:34&quot;</td><td>&quot;IN&quot;</td><td>&quot;2025-08-12 12:40:34&quot;</td></tr></tbody></table></div>"
      ],
      "text/plain": [
       "shape: (5, 10)\n",
       "┌─────┬───────────┬───────────┬───────────┬───┬──────────┬───────────────┬─────────┬───────────────┐\n",
       "│ id  ┆ city      ┆ lat       ┆ lon       ┆ … ┆ weather  ┆ utc_timestamp ┆ country ┆ local_timesta │\n",
       "│ --- ┆ ---       ┆ ---       ┆ ---       ┆   ┆ ---      ┆ ---           ┆ ---     ┆ mp            │\n",
       "│ i64 ┆ str       ┆ f64       ┆ f64       ┆   ┆ str      ┆ str           ┆ str     ┆ ---           │\n",
       "│     ┆           ┆           ┆           ┆   ┆          ┆               ┆         ┆ str           │\n",
       "╞═════╪═══════════╪═══════════╪═══════════╪═══╪══════════╪═══════════════╪═════════╪═══════════════╡\n",
       "│ 1   ┆ New Delhi ┆ 28.61282  ┆ 77.23114  ┆ … ┆ overcast ┆ 2025-08-12    ┆ IN      ┆ 2025-08-12    │\n",
       "│     ┆           ┆           ┆           ┆   ┆ clouds   ┆ 07:04:18      ┆         ┆ 12:34:18      │\n",
       "│ 2   ┆ Bhopal    ┆ 23.26667  ┆ 77.400002 ┆ … ┆ broken   ┆ 2025-08-12    ┆ IN      ┆ 2025-08-12    │\n",
       "│     ┆           ┆           ┆           ┆   ┆ clouds   ┆ 06:53:16      ┆         ┆ 12:23:16      │\n",
       "│ 3   ┆ Jaipur    ┆ 23.433331 ┆ 86.133331 ┆ … ┆ overcast ┆ 2025-08-12    ┆ IN      ┆ 2025-08-12    │\n",
       "│     ┆           ┆           ┆           ┆   ┆ clouds   ┆ 06:56:34      ┆         ┆ 12:26:34      │\n",
       "│ 4   ┆ Bengaluru ┆ 12.97623  ┆ 77.603287 ┆ … ┆ overcast ┆ 2025-08-12    ┆ IN      ┆ 2025-08-12    │\n",
       "│     ┆           ┆           ┆           ┆   ┆ clouds   ┆ 07:02:02      ┆         ┆ 12:32:02      │\n",
       "│ 6   ┆ Bhopal    ┆ 23.26667  ┆ 77.400002 ┆ … ┆ broken   ┆ 2025-08-12    ┆ IN      ┆ 2025-08-12    │\n",
       "│     ┆           ┆           ┆           ┆   ┆ clouds   ┆ 07:10:34      ┆         ┆ 12:40:34      │\n",
       "└─────┴───────────┴───────────┴───────────┴───┴──────────┴───────────────┴─────────┴───────────────┘"
      ]
     },
     "execution_count": 2,
     "metadata": {},
     "output_type": "execute_result"
    }
   ],
   "source": [
    "df.head()"
   ]
  },
  {
   "cell_type": "code",
   "execution_count": 3,
   "id": "0d0486dc",
   "metadata": {},
   "outputs": [],
   "source": [
    "df = df.with_columns([pl.col(\"utc_timestamp\").cast(pl.Utf8)])"
   ]
  },
  {
   "cell_type": "code",
   "execution_count": 4,
   "id": "cd2dc8bd",
   "metadata": {},
   "outputs": [
    {
     "data": {
      "text/html": [
       "<div><style>\n",
       ".dataframe > thead > tr,\n",
       ".dataframe > tbody > tr {\n",
       "  text-align: right;\n",
       "  white-space: pre-wrap;\n",
       "}\n",
       "</style>\n",
       "<small>shape: (5, 10)</small><table border=\"1\" class=\"dataframe\"><thead><tr><th>id</th><th>city</th><th>lat</th><th>lon</th><th>temp</th><th>humidity</th><th>weather</th><th>utc_timestamp</th><th>country</th><th>local_timestamp</th></tr><tr><td>i64</td><td>str</td><td>f64</td><td>f64</td><td>f64</td><td>i64</td><td>str</td><td>str</td><td>str</td><td>str</td></tr></thead><tbody><tr><td>1</td><td>&quot;New Delhi&quot;</td><td>28.61282</td><td>77.23114</td><td>29.32</td><td>69</td><td>&quot;overcast clouds&quot;</td><td>&quot;2025-08-12 07:04:18&quot;</td><td>&quot;IN&quot;</td><td>&quot;2025-08-12 12:34:18&quot;</td></tr><tr><td>2</td><td>&quot;Bhopal&quot;</td><td>23.26667</td><td>77.400002</td><td>26.55</td><td>72</td><td>&quot;broken clouds&quot;</td><td>&quot;2025-08-12 06:53:16&quot;</td><td>&quot;IN&quot;</td><td>&quot;2025-08-12 12:23:16&quot;</td></tr><tr><td>3</td><td>&quot;Jaipur&quot;</td><td>23.433331</td><td>86.133331</td><td>34.17</td><td>48</td><td>&quot;overcast clouds&quot;</td><td>&quot;2025-08-12 06:56:34&quot;</td><td>&quot;IN&quot;</td><td>&quot;2025-08-12 12:26:34&quot;</td></tr><tr><td>4</td><td>&quot;Bengaluru&quot;</td><td>12.97623</td><td>77.603287</td><td>26.48</td><td>69</td><td>&quot;overcast clouds&quot;</td><td>&quot;2025-08-12 07:02:02&quot;</td><td>&quot;IN&quot;</td><td>&quot;2025-08-12 12:32:02&quot;</td></tr><tr><td>6</td><td>&quot;Bhopal&quot;</td><td>23.26667</td><td>77.400002</td><td>26.67</td><td>72</td><td>&quot;broken clouds&quot;</td><td>&quot;2025-08-12 07:10:34&quot;</td><td>&quot;IN&quot;</td><td>&quot;2025-08-12 12:40:34&quot;</td></tr></tbody></table></div>"
      ],
      "text/plain": [
       "shape: (5, 10)\n",
       "┌─────┬───────────┬───────────┬───────────┬───┬──────────┬───────────────┬─────────┬───────────────┐\n",
       "│ id  ┆ city      ┆ lat       ┆ lon       ┆ … ┆ weather  ┆ utc_timestamp ┆ country ┆ local_timesta │\n",
       "│ --- ┆ ---       ┆ ---       ┆ ---       ┆   ┆ ---      ┆ ---           ┆ ---     ┆ mp            │\n",
       "│ i64 ┆ str       ┆ f64       ┆ f64       ┆   ┆ str      ┆ str           ┆ str     ┆ ---           │\n",
       "│     ┆           ┆           ┆           ┆   ┆          ┆               ┆         ┆ str           │\n",
       "╞═════╪═══════════╪═══════════╪═══════════╪═══╪══════════╪═══════════════╪═════════╪═══════════════╡\n",
       "│ 1   ┆ New Delhi ┆ 28.61282  ┆ 77.23114  ┆ … ┆ overcast ┆ 2025-08-12    ┆ IN      ┆ 2025-08-12    │\n",
       "│     ┆           ┆           ┆           ┆   ┆ clouds   ┆ 07:04:18      ┆         ┆ 12:34:18      │\n",
       "│ 2   ┆ Bhopal    ┆ 23.26667  ┆ 77.400002 ┆ … ┆ broken   ┆ 2025-08-12    ┆ IN      ┆ 2025-08-12    │\n",
       "│     ┆           ┆           ┆           ┆   ┆ clouds   ┆ 06:53:16      ┆         ┆ 12:23:16      │\n",
       "│ 3   ┆ Jaipur    ┆ 23.433331 ┆ 86.133331 ┆ … ┆ overcast ┆ 2025-08-12    ┆ IN      ┆ 2025-08-12    │\n",
       "│     ┆           ┆           ┆           ┆   ┆ clouds   ┆ 06:56:34      ┆         ┆ 12:26:34      │\n",
       "│ 4   ┆ Bengaluru ┆ 12.97623  ┆ 77.603287 ┆ … ┆ overcast ┆ 2025-08-12    ┆ IN      ┆ 2025-08-12    │\n",
       "│     ┆           ┆           ┆           ┆   ┆ clouds   ┆ 07:02:02      ┆         ┆ 12:32:02      │\n",
       "│ 6   ┆ Bhopal    ┆ 23.26667  ┆ 77.400002 ┆ … ┆ broken   ┆ 2025-08-12    ┆ IN      ┆ 2025-08-12    │\n",
       "│     ┆           ┆           ┆           ┆   ┆ clouds   ┆ 07:10:34      ┆         ┆ 12:40:34      │\n",
       "└─────┴───────────┴───────────┴───────────┴───┴──────────┴───────────────┴─────────┴───────────────┘"
      ]
     },
     "execution_count": 4,
     "metadata": {},
     "output_type": "execute_result"
    }
   ],
   "source": [
    "df.head()"
   ]
  },
  {
   "cell_type": "code",
   "execution_count": 5,
   "id": "ff54238d",
   "metadata": {},
   "outputs": [
    {
     "data": {
      "text/html": [
       "<div><style>\n",
       ".dataframe > thead > tr,\n",
       ".dataframe > tbody > tr {\n",
       "  text-align: right;\n",
       "  white-space: pre-wrap;\n",
       "}\n",
       "</style>\n",
       "<small>shape: (9, 11)</small><table border=\"1\" class=\"dataframe\"><thead><tr><th>statistic</th><th>id</th><th>city</th><th>lat</th><th>lon</th><th>temp</th><th>humidity</th><th>weather</th><th>utc_timestamp</th><th>country</th><th>local_timestamp</th></tr><tr><td>str</td><td>f64</td><td>str</td><td>f64</td><td>f64</td><td>f64</td><td>f64</td><td>str</td><td>str</td><td>str</td><td>str</td></tr></thead><tbody><tr><td>&quot;count&quot;</td><td>360.0</td><td>&quot;360&quot;</td><td>360.0</td><td>360.0</td><td>360.0</td><td>360.0</td><td>&quot;360&quot;</td><td>&quot;360&quot;</td><td>&quot;360&quot;</td><td>&quot;360&quot;</td></tr><tr><td>&quot;null_count&quot;</td><td>0.0</td><td>&quot;0&quot;</td><td>0.0</td><td>0.0</td><td>0.0</td><td>0.0</td><td>&quot;0&quot;</td><td>&quot;0&quot;</td><td>&quot;0&quot;</td><td>&quot;0&quot;</td></tr><tr><td>&quot;mean&quot;</td><td>302.519444</td><td>null</td><td>22.072263</td><td>79.59194</td><td>26.857667</td><td>77.633333</td><td>null</td><td>null</td><td>null</td><td>null</td></tr><tr><td>&quot;std&quot;</td><td>148.436793</td><td>null</td><td>5.68231</td><td>3.784231</td><td>4.046099</td><td>11.075784</td><td>null</td><td>null</td><td>null</td><td>null</td></tr><tr><td>&quot;min&quot;</td><td>1.0</td><td>&quot;Bengaluru&quot;</td><td>12.97623</td><td>77.23114</td><td>19.22</td><td>48.0</td><td>&quot;broken clouds&quot;</td><td>&quot;2025-08-12 06:53:16&quot;</td><td>&quot;IN&quot;</td><td>&quot;2025-08-12 12:23:16&quot;</td></tr><tr><td>&quot;25%&quot;</td><td>178.0</td><td>null</td><td>23.26667</td><td>77.400002</td><td>23.94</td><td>70.0</td><td>null</td><td>null</td><td>null</td><td>null</td></tr><tr><td>&quot;50%&quot;</td><td>312.0</td><td>null</td><td>23.433331</td><td>77.603287</td><td>27.17</td><td>80.0</td><td>null</td><td>null</td><td>null</td><td>null</td></tr><tr><td>&quot;75%&quot;</td><td>428.0</td><td>null</td><td>23.433331</td><td>77.603287</td><td>30.57</td><td>87.0</td><td>null</td><td>null</td><td>null</td><td>null</td></tr><tr><td>&quot;max&quot;</td><td>550.0</td><td>&quot;New Delhi&quot;</td><td>28.61282</td><td>86.133331</td><td>34.17</td><td>93.0</td><td>&quot;overcast clouds&quot;</td><td>&quot;2025-08-13 06:44:46&quot;</td><td>&quot;IN&quot;</td><td>&quot;2025-08-13 12:14:46&quot;</td></tr></tbody></table></div>"
      ],
      "text/plain": [
       "shape: (9, 11)\n",
       "┌────────────┬───────────┬───────────┬───────────┬───┬───────────┬───────────┬─────────┬───────────┐\n",
       "│ statistic  ┆ id        ┆ city      ┆ lat       ┆ … ┆ weather   ┆ utc_times ┆ country ┆ local_tim │\n",
       "│ ---        ┆ ---       ┆ ---       ┆ ---       ┆   ┆ ---       ┆ tamp      ┆ ---     ┆ estamp    │\n",
       "│ str        ┆ f64       ┆ str       ┆ f64       ┆   ┆ str       ┆ ---       ┆ str     ┆ ---       │\n",
       "│            ┆           ┆           ┆           ┆   ┆           ┆ str       ┆         ┆ str       │\n",
       "╞════════════╪═══════════╪═══════════╪═══════════╪═══╪═══════════╪═══════════╪═════════╪═══════════╡\n",
       "│ count      ┆ 360.0     ┆ 360       ┆ 360.0     ┆ … ┆ 360       ┆ 360       ┆ 360     ┆ 360       │\n",
       "│ null_count ┆ 0.0       ┆ 0         ┆ 0.0       ┆ … ┆ 0         ┆ 0         ┆ 0       ┆ 0         │\n",
       "│ mean       ┆ 302.51944 ┆ null      ┆ 22.072263 ┆ … ┆ null      ┆ null      ┆ null    ┆ null      │\n",
       "│            ┆ 4         ┆           ┆           ┆   ┆           ┆           ┆         ┆           │\n",
       "│ std        ┆ 148.43679 ┆ null      ┆ 5.68231   ┆ … ┆ null      ┆ null      ┆ null    ┆ null      │\n",
       "│            ┆ 3         ┆           ┆           ┆   ┆           ┆           ┆         ┆           │\n",
       "│ min        ┆ 1.0       ┆ Bengaluru ┆ 12.97623  ┆ … ┆ broken    ┆ 2025-08-1 ┆ IN      ┆ 2025-08-1 │\n",
       "│            ┆           ┆           ┆           ┆   ┆ clouds    ┆ 2         ┆         ┆ 2         │\n",
       "│            ┆           ┆           ┆           ┆   ┆           ┆ 06:53:16  ┆         ┆ 12:23:16  │\n",
       "│ 25%        ┆ 178.0     ┆ null      ┆ 23.26667  ┆ … ┆ null      ┆ null      ┆ null    ┆ null      │\n",
       "│ 50%        ┆ 312.0     ┆ null      ┆ 23.433331 ┆ … ┆ null      ┆ null      ┆ null    ┆ null      │\n",
       "│ 75%        ┆ 428.0     ┆ null      ┆ 23.433331 ┆ … ┆ null      ┆ null      ┆ null    ┆ null      │\n",
       "│ max        ┆ 550.0     ┆ New Delhi ┆ 28.61282  ┆ … ┆ overcast  ┆ 2025-08-1 ┆ IN      ┆ 2025-08-1 │\n",
       "│            ┆           ┆           ┆           ┆   ┆ clouds    ┆ 3         ┆         ┆ 3         │\n",
       "│            ┆           ┆           ┆           ┆   ┆           ┆ 06:44:46  ┆         ┆ 12:14:46  │\n",
       "└────────────┴───────────┴───────────┴───────────┴───┴───────────┴───────────┴─────────┴───────────┘"
      ]
     },
     "execution_count": 5,
     "metadata": {},
     "output_type": "execute_result"
    }
   ],
   "source": [
    "df.describe()"
   ]
  },
  {
   "cell_type": "code",
   "execution_count": 6,
   "id": "d99dc438",
   "metadata": {},
   "outputs": [],
   "source": [
    "df = df.with_columns([\n",
    "    pl.col(\"utc_timestamp\").str.strptime(pl.Datetime, \"%Y-%m-%d %H:%M:%S\").alias(\"timestamp\"),\n",
    "])\n",
    "\n",
    "df = df.with_columns([\n",
    "    pl.col(\"timestamp\").dt.date().alias(\"day\")\n",
    "])\n"
   ]
  },
  {
   "cell_type": "code",
   "execution_count": 7,
   "id": "4ace3e55",
   "metadata": {},
   "outputs": [
    {
     "data": {
      "text/html": [
       "<div><style>\n",
       ".dataframe > thead > tr,\n",
       ".dataframe > tbody > tr {\n",
       "  text-align: right;\n",
       "  white-space: pre-wrap;\n",
       "}\n",
       "</style>\n",
       "<small>shape: (5, 12)</small><table border=\"1\" class=\"dataframe\"><thead><tr><th>id</th><th>city</th><th>lat</th><th>lon</th><th>temp</th><th>humidity</th><th>weather</th><th>utc_timestamp</th><th>country</th><th>local_timestamp</th><th>timestamp</th><th>day</th></tr><tr><td>i64</td><td>str</td><td>f64</td><td>f64</td><td>f64</td><td>i64</td><td>str</td><td>str</td><td>str</td><td>str</td><td>datetime[μs]</td><td>date</td></tr></thead><tbody><tr><td>1</td><td>&quot;New Delhi&quot;</td><td>28.61282</td><td>77.23114</td><td>29.32</td><td>69</td><td>&quot;overcast clouds&quot;</td><td>&quot;2025-08-12 07:04:18&quot;</td><td>&quot;IN&quot;</td><td>&quot;2025-08-12 12:34:18&quot;</td><td>2025-08-12 07:04:18</td><td>2025-08-12</td></tr><tr><td>2</td><td>&quot;Bhopal&quot;</td><td>23.26667</td><td>77.400002</td><td>26.55</td><td>72</td><td>&quot;broken clouds&quot;</td><td>&quot;2025-08-12 06:53:16&quot;</td><td>&quot;IN&quot;</td><td>&quot;2025-08-12 12:23:16&quot;</td><td>2025-08-12 06:53:16</td><td>2025-08-12</td></tr><tr><td>3</td><td>&quot;Jaipur&quot;</td><td>23.433331</td><td>86.133331</td><td>34.17</td><td>48</td><td>&quot;overcast clouds&quot;</td><td>&quot;2025-08-12 06:56:34&quot;</td><td>&quot;IN&quot;</td><td>&quot;2025-08-12 12:26:34&quot;</td><td>2025-08-12 06:56:34</td><td>2025-08-12</td></tr><tr><td>4</td><td>&quot;Bengaluru&quot;</td><td>12.97623</td><td>77.603287</td><td>26.48</td><td>69</td><td>&quot;overcast clouds&quot;</td><td>&quot;2025-08-12 07:02:02&quot;</td><td>&quot;IN&quot;</td><td>&quot;2025-08-12 12:32:02&quot;</td><td>2025-08-12 07:02:02</td><td>2025-08-12</td></tr><tr><td>6</td><td>&quot;Bhopal&quot;</td><td>23.26667</td><td>77.400002</td><td>26.67</td><td>72</td><td>&quot;broken clouds&quot;</td><td>&quot;2025-08-12 07:10:34&quot;</td><td>&quot;IN&quot;</td><td>&quot;2025-08-12 12:40:34&quot;</td><td>2025-08-12 07:10:34</td><td>2025-08-12</td></tr></tbody></table></div>"
      ],
      "text/plain": [
       "shape: (5, 12)\n",
       "┌─────┬───────────┬───────────┬───────────┬───┬─────────┬──────────────┬──────────────┬────────────┐\n",
       "│ id  ┆ city      ┆ lat       ┆ lon       ┆ … ┆ country ┆ local_timest ┆ timestamp    ┆ day        │\n",
       "│ --- ┆ ---       ┆ ---       ┆ ---       ┆   ┆ ---     ┆ amp          ┆ ---          ┆ ---        │\n",
       "│ i64 ┆ str       ┆ f64       ┆ f64       ┆   ┆ str     ┆ ---          ┆ datetime[μs] ┆ date       │\n",
       "│     ┆           ┆           ┆           ┆   ┆         ┆ str          ┆              ┆            │\n",
       "╞═════╪═══════════╪═══════════╪═══════════╪═══╪═════════╪══════════════╪══════════════╪════════════╡\n",
       "│ 1   ┆ New Delhi ┆ 28.61282  ┆ 77.23114  ┆ … ┆ IN      ┆ 2025-08-12   ┆ 2025-08-12   ┆ 2025-08-12 │\n",
       "│     ┆           ┆           ┆           ┆   ┆         ┆ 12:34:18     ┆ 07:04:18     ┆            │\n",
       "│ 2   ┆ Bhopal    ┆ 23.26667  ┆ 77.400002 ┆ … ┆ IN      ┆ 2025-08-12   ┆ 2025-08-12   ┆ 2025-08-12 │\n",
       "│     ┆           ┆           ┆           ┆   ┆         ┆ 12:23:16     ┆ 06:53:16     ┆            │\n",
       "│ 3   ┆ Jaipur    ┆ 23.433331 ┆ 86.133331 ┆ … ┆ IN      ┆ 2025-08-12   ┆ 2025-08-12   ┆ 2025-08-12 │\n",
       "│     ┆           ┆           ┆           ┆   ┆         ┆ 12:26:34     ┆ 06:56:34     ┆            │\n",
       "│ 4   ┆ Bengaluru ┆ 12.97623  ┆ 77.603287 ┆ … ┆ IN      ┆ 2025-08-12   ┆ 2025-08-12   ┆ 2025-08-12 │\n",
       "│     ┆           ┆           ┆           ┆   ┆         ┆ 12:32:02     ┆ 07:02:02     ┆            │\n",
       "│ 6   ┆ Bhopal    ┆ 23.26667  ┆ 77.400002 ┆ … ┆ IN      ┆ 2025-08-12   ┆ 2025-08-12   ┆ 2025-08-12 │\n",
       "│     ┆           ┆           ┆           ┆   ┆         ┆ 12:40:34     ┆ 07:10:34     ┆            │\n",
       "└─────┴───────────┴───────────┴───────────┴───┴─────────┴──────────────┴──────────────┴────────────┘"
      ]
     },
     "execution_count": 7,
     "metadata": {},
     "output_type": "execute_result"
    }
   ],
   "source": [
    "df.head()"
   ]
  },
  {
   "cell_type": "code",
   "execution_count": 8,
   "id": "2dccf66b",
   "metadata": {},
   "outputs": [
    {
     "data": {
      "text/html": [
       "<div><style>\n",
       ".dataframe > thead > tr,\n",
       ".dataframe > tbody > tr {\n",
       "  text-align: right;\n",
       "  white-space: pre-wrap;\n",
       "}\n",
       "</style>\n",
       "<small>shape: (2,)</small><table border=\"1\" class=\"dataframe\"><thead><tr><th>day</th></tr><tr><td>date</td></tr></thead><tbody><tr><td>2025-08-12</td></tr><tr><td>2025-08-13</td></tr></tbody></table></div>"
      ],
      "text/plain": [
       "shape: (2,)\n",
       "Series: 'day' [date]\n",
       "[\n",
       "\t2025-08-12\n",
       "\t2025-08-13\n",
       "]"
      ]
     },
     "execution_count": 8,
     "metadata": {},
     "output_type": "execute_result"
    }
   ],
   "source": [
    "df['day'].unique()"
   ]
  },
  {
   "cell_type": "code",
   "execution_count": 9,
   "id": "152ab0a6",
   "metadata": {},
   "outputs": [],
   "source": [
    "df_daily = (\n",
    "    df.group_by(['city','day'])\n",
    "    .agg([\n",
    "        pl.col(\"temp\").mean().round(2).alias(\"Avg_temperature\"),\n",
    "        pl.col(\"humidity\").mean().round(2).alias(\"Avg_Humidity\"),\n",
    "        pl.len().alias(\"Hourly_count\")\n",
    "    ])\n",
    ")"
   ]
  },
  {
   "cell_type": "code",
   "execution_count": 10,
   "id": "89a4749c",
   "metadata": {},
   "outputs": [
    {
     "data": {
      "text/html": [
       "<div><style>\n",
       ".dataframe > thead > tr,\n",
       ".dataframe > tbody > tr {\n",
       "  text-align: right;\n",
       "  white-space: pre-wrap;\n",
       "}\n",
       "</style>\n",
       "<small>shape: (8, 5)</small><table border=\"1\" class=\"dataframe\"><thead><tr><th>city</th><th>day</th><th>Avg_temperature</th><th>Avg_Humidity</th><th>Hourly_count</th></tr><tr><td>str</td><td>date</td><td>f64</td><td>f64</td><td>u32</td></tr></thead><tbody><tr><td>&quot;Bhopal&quot;</td><td>2025-08-12</td><td>25.24</td><td>86.47</td><td>45</td></tr><tr><td>&quot;New Delhi&quot;</td><td>2025-08-13</td><td>30.84</td><td>63.6</td><td>45</td></tr><tr><td>&quot;Jaipur&quot;</td><td>2025-08-12</td><td>28.33</td><td>77.33</td><td>45</td></tr><tr><td>&quot;Jaipur&quot;</td><td>2025-08-13</td><td>30.59</td><td>66.47</td><td>45</td></tr><tr><td>&quot;Bengaluru&quot;</td><td>2025-08-13</td><td>22.94</td><td>87.4</td><td>45</td></tr><tr><td>&quot;Bhopal&quot;</td><td>2025-08-13</td><td>25.35</td><td>80.64</td><td>45</td></tr><tr><td>&quot;New Delhi&quot;</td><td>2025-08-12</td><td>31.38</td><td>69.8</td><td>45</td></tr><tr><td>&quot;Bengaluru&quot;</td><td>2025-08-12</td><td>20.19</td><td>89.36</td><td>45</td></tr></tbody></table></div>"
      ],
      "text/plain": [
       "shape: (8, 5)\n",
       "┌───────────┬────────────┬─────────────────┬──────────────┬──────────────┐\n",
       "│ city      ┆ day        ┆ Avg_temperature ┆ Avg_Humidity ┆ Hourly_count │\n",
       "│ ---       ┆ ---        ┆ ---             ┆ ---          ┆ ---          │\n",
       "│ str       ┆ date       ┆ f64             ┆ f64          ┆ u32          │\n",
       "╞═══════════╪════════════╪═════════════════╪══════════════╪══════════════╡\n",
       "│ Bhopal    ┆ 2025-08-12 ┆ 25.24           ┆ 86.47        ┆ 45           │\n",
       "│ New Delhi ┆ 2025-08-13 ┆ 30.84           ┆ 63.6         ┆ 45           │\n",
       "│ Jaipur    ┆ 2025-08-12 ┆ 28.33           ┆ 77.33        ┆ 45           │\n",
       "│ Jaipur    ┆ 2025-08-13 ┆ 30.59           ┆ 66.47        ┆ 45           │\n",
       "│ Bengaluru ┆ 2025-08-13 ┆ 22.94           ┆ 87.4         ┆ 45           │\n",
       "│ Bhopal    ┆ 2025-08-13 ┆ 25.35           ┆ 80.64        ┆ 45           │\n",
       "│ New Delhi ┆ 2025-08-12 ┆ 31.38           ┆ 69.8         ┆ 45           │\n",
       "│ Bengaluru ┆ 2025-08-12 ┆ 20.19           ┆ 89.36        ┆ 45           │\n",
       "└───────────┴────────────┴─────────────────┴──────────────┴──────────────┘"
      ]
     },
     "execution_count": 10,
     "metadata": {},
     "output_type": "execute_result"
    }
   ],
   "source": [
    "df_daily"
   ]
  },
  {
   "cell_type": "code",
   "execution_count": 11,
   "id": "e0b51f4e",
   "metadata": {},
   "outputs": [],
   "source": [
    "from deltalake.writer import write_deltalake\n",
    "\n",
    "write_deltalake(\"./lake_data\",df_daily)"
   ]
  },
  {
   "cell_type": "code",
   "execution_count": 12,
   "id": "f15dbec7",
   "metadata": {},
   "outputs": [],
   "source": [
    "df_new = pl.DataFrame({\n",
    "    \"city\":[\"Mumbai\"],\n",
    "    \"day\":[\"2025-05-18\"],\n",
    "    \"Avg_temperature\":[33.1],\n",
    "    \"Avg_Humidity\":[70.2],\n",
    "    \"Hourly_count\":[24]\n",
    "})\n",
    "\n",
    "write_deltalake(\"./lake_data\",df_new, mode=\"append\")"
   ]
  },
  {
   "cell_type": "code",
   "execution_count": 13,
   "id": "4cfc0eda",
   "metadata": {},
   "outputs": [
    {
     "name": "stdout",
     "output_type": "stream",
     "text": [
      "shape: (9, 5)\n",
      "┌───────────┬────────────┬─────────────────┬──────────────┬──────────────┐\n",
      "│ city      ┆ day        ┆ Avg_temperature ┆ Avg_Humidity ┆ Hourly_count │\n",
      "│ ---       ┆ ---        ┆ ---             ┆ ---          ┆ ---          │\n",
      "│ str       ┆ date       ┆ f64             ┆ f64          ┆ i32          │\n",
      "╞═══════════╪════════════╪═════════════════╪══════════════╪══════════════╡\n",
      "│ Mumbai    ┆ 2025-05-18 ┆ 33.1            ┆ 70.2         ┆ 24           │\n",
      "│ Bhopal    ┆ 2025-08-12 ┆ 25.24           ┆ 86.47        ┆ 45           │\n",
      "│ New Delhi ┆ 2025-08-13 ┆ 30.84           ┆ 63.6         ┆ 45           │\n",
      "│ Jaipur    ┆ 2025-08-12 ┆ 28.33           ┆ 77.33        ┆ 45           │\n",
      "│ Jaipur    ┆ 2025-08-13 ┆ 30.59           ┆ 66.47        ┆ 45           │\n",
      "│ Bengaluru ┆ 2025-08-13 ┆ 22.94           ┆ 87.4         ┆ 45           │\n",
      "│ Bhopal    ┆ 2025-08-13 ┆ 25.35           ┆ 80.64        ┆ 45           │\n",
      "│ New Delhi ┆ 2025-08-12 ┆ 31.38           ┆ 69.8         ┆ 45           │\n",
      "│ Bengaluru ┆ 2025-08-12 ┆ 20.19           ┆ 89.36        ┆ 45           │\n",
      "└───────────┴────────────┴─────────────────┴──────────────┴──────────────┘\n",
      "shape: (8, 5)\n",
      "┌───────────┬────────────┬─────────────────┬──────────────┬──────────────┐\n",
      "│ city      ┆ day        ┆ Avg_temperature ┆ Avg_Humidity ┆ Hourly_count │\n",
      "│ ---       ┆ ---        ┆ ---             ┆ ---          ┆ ---          │\n",
      "│ str       ┆ date       ┆ f64             ┆ f64          ┆ i32          │\n",
      "╞═══════════╪════════════╪═════════════════╪══════════════╪══════════════╡\n",
      "│ Bhopal    ┆ 2025-08-12 ┆ 25.24           ┆ 86.47        ┆ 45           │\n",
      "│ New Delhi ┆ 2025-08-13 ┆ 30.84           ┆ 63.6         ┆ 45           │\n",
      "│ Jaipur    ┆ 2025-08-12 ┆ 28.33           ┆ 77.33        ┆ 45           │\n",
      "│ Jaipur    ┆ 2025-08-13 ┆ 30.59           ┆ 66.47        ┆ 45           │\n",
      "│ Bengaluru ┆ 2025-08-13 ┆ 22.94           ┆ 87.4         ┆ 45           │\n",
      "│ Bhopal    ┆ 2025-08-13 ┆ 25.35           ┆ 80.64        ┆ 45           │\n",
      "│ New Delhi ┆ 2025-08-12 ┆ 31.38           ┆ 69.8         ┆ 45           │\n",
      "│ Bengaluru ┆ 2025-08-12 ┆ 20.19           ┆ 89.36        ┆ 45           │\n",
      "└───────────┴────────────┴─────────────────┴──────────────┴──────────────┘\n"
     ]
    }
   ],
   "source": [
    "# Latest version (v1)\n",
    "print(pl.read_delta(\"./lake_data\"))\n",
    "\n",
    "# Previous version (v0)\n",
    "print(pl.read_delta(\"./lake_data\", version=0))\n"
   ]
  },
  {
   "cell_type": "code",
   "execution_count": 15,
   "id": "fac5ee6c",
   "metadata": {},
   "outputs": [
    {
     "name": "stdout",
     "output_type": "stream",
     "text": [
      "shape: (1, 5)\n",
      "┌────────┬────────────┬─────────────────┬──────────────┬──────────────┐\n",
      "│ city   ┆ day        ┆ Avg_temperature ┆ Avg_Humidity ┆ Hourly_count │\n",
      "│ ---    ┆ ---        ┆ ---             ┆ ---          ┆ ---          │\n",
      "│ str    ┆ date       ┆ f64             ┆ f64          ┆ i32          │\n",
      "╞════════╪════════════╪═════════════════╪══════════════╪══════════════╡\n",
      "│ Mumbai ┆ 2025-05-18 ┆ 33.1            ┆ 70.2         ┆ 24           │\n",
      "└────────┴────────────┴─────────────────┴──────────────┴──────────────┘\n"
     ]
    }
   ],
   "source": [
    "# Only scan Mumbai records\n",
    "df_mumbai = pl.read_delta(\"./lake_data\").filter(\n",
    "    pl.col(\"city\") == \"Mumbai\"\n",
    ")\n",
    "print(df_mumbai)\n"
   ]
  },
  {
   "cell_type": "code",
   "execution_count": 16,
   "id": "64621fde",
   "metadata": {},
   "outputs": [
    {
     "name": "stdout",
     "output_type": "stream",
     "text": [
      "shape: (5, 4)\n",
      "┌───────────┬─────────────────┬─────────────────────┬───────────────┐\n",
      "│ city      ┆ global_avg_temp ┆ global_avg_humidity ┆ days_observed │\n",
      "│ ---       ┆ ---             ┆ ---                 ┆ ---           │\n",
      "│ str       ┆ f64             ┆ f64                 ┆ u32           │\n",
      "╞═══════════╪═════════════════╪═════════════════════╪═══════════════╡\n",
      "│ Bengaluru ┆ 21.56           ┆ 88.38               ┆ 2             │\n",
      "│ New Delhi ┆ 31.11           ┆ 66.7                ┆ 2             │\n",
      "│ Bhopal    ┆ 25.3            ┆ 83.56               ┆ 2             │\n",
      "│ Jaipur    ┆ 29.46           ┆ 71.9                ┆ 2             │\n",
      "│ Mumbai    ┆ 33.1            ┆ 70.2                ┆ 1             │\n",
      "└───────────┴─────────────────┴─────────────────────┴───────────────┘\n"
     ]
    }
   ],
   "source": [
    "df_global = (\n",
    "    pl.read_delta(\"./lake_data\")\n",
    "    .group_by(\"city\")\n",
    "    .agg([\n",
    "        pl.col(\"Avg_temperature\").mean().round(2).alias(\"global_avg_temp\"),\n",
    "        pl.col(\"Avg_Humidity\").mean().round(2).alias(\"global_avg_humidity\"),\n",
    "        pl.len().alias(\"days_observed\")\n",
    "    ])\n",
    ")\n",
    "\n",
    "print(df_global)\n"
   ]
  },
  {
   "cell_type": "code",
   "execution_count": null,
   "id": "825dc002",
   "metadata": {},
   "outputs": [],
   "source": []
  }
 ],
 "metadata": {
  "kernelspec": {
   "display_name": "dataeng",
   "language": "python",
   "name": "python3"
  },
  "language_info": {
   "codemirror_mode": {
    "name": "ipython",
    "version": 3
   },
   "file_extension": ".py",
   "mimetype": "text/x-python",
   "name": "python",
   "nbconvert_exporter": "python",
   "pygments_lexer": "ipython3",
   "version": "3.10.18"
  }
 },
 "nbformat": 4,
 "nbformat_minor": 5
}
