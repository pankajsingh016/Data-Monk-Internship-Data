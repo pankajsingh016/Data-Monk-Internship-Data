{
 "cells": [
  {
   "cell_type": "code",
   "execution_count": null,
   "id": "577a3cf2",
   "metadata": {},
   "outputs": [
    {
     "name": "stdout",
     "output_type": "stream",
     "text": [
      "!Hello World\n",
      "Counter({'apple': 2, 'banana': 1})\n",
      "Data NOUN\n",
      "engineering NOUN\n",
      "is AUX\n",
      "awesome ADJ\n",
      "! PUNCT\n"
     ]
    }
   ],
   "source": [
    "\n",
    "print(\"!Hello World\")\n",
    "\n",
    "#collections\n",
    "\n",
    "from collections import Counter\n",
    "words = ['apple','banana','apple']\n",
    "\n",
    "print(Counter(words))\n",
    "     \n",
    "import spacy\n",
    "nlp = spacy.load(\"en_core_web_sm\")\n",
    "doc = nlp(\"Data engineering is awesome!\")\n",
    "for token in doc:\n",
    "    print(token.text, token.pos_)"
   ]
  },
  {
   "cell_type": "markdown",
   "id": "6150e622",
   "metadata": {},
   "source": [
    "## Try This Out Exercise\n",
    "1. Write a script to count words in a sentence. Hint: Use split() and collections.Counter.\n",
    "\n",
    "2. Load a .json file and print out one of the keys. Try using the built-in json module.\n",
    "\n",
    "3. Use re to check if a string is an email address. Start with re.match() and a basic email pattern.\n",
    "\n",
    "4. Install and use pola.rs to read a CSV file. Bonus: Print the column names and first 5 rows.\n",
    "\n",
    "5. Use spaCy to analyze a short sentence. What parts of speech does it identify?"
   ]
  },
  {
   "cell_type": "code",
   "execution_count": 4,
   "id": "3148336c",
   "metadata": {},
   "outputs": [
    {
     "name": "stdout",
     "output_type": "stream",
     "text": [
      "['The', 'Quick', 'brown', 'fox', 'jump', 'over', 'the', 'crazy', 'dog']\n"
     ]
    }
   ],
   "source": [
    "# Exercise 1: Write a script to count words in a sentence using split and collections counter\n",
    "\n",
    "sentence = \"The Quick brown fox jump over the crazy dog.\"\n",
    "sentence = sentence.replace(\".\",\"\")\n",
    "\n",
    "li = sentence.split(' ')\n",
    "\n",
    "for word in li:\n",
    "    word = word.strip()\n",
    "\n",
    "print(li)"
   ]
  },
  {
   "cell_type": "code",
   "execution_count": 5,
   "id": "ff0ae4cc",
   "metadata": {},
   "outputs": [],
   "source": [
    "from collections import Counter\n",
    "count = Counter(li)"
   ]
  },
  {
   "cell_type": "code",
   "execution_count": 6,
   "id": "07c998b3",
   "metadata": {},
   "outputs": [
    {
     "name": "stdout",
     "output_type": "stream",
     "text": [
      "Counter({'The': 1, 'Quick': 1, 'brown': 1, 'fox': 1, 'jump': 1, 'over': 1, 'the': 1, 'crazy': 1, 'dog': 1})\n"
     ]
    }
   ],
   "source": [
    "print(count)"
   ]
  },
  {
   "cell_type": "code",
   "execution_count": 9,
   "id": "03218138",
   "metadata": {},
   "outputs": [
    {
     "name": "stdout",
     "output_type": "stream",
     "text": [
      "{'User1': {'name': 'Pankaj', 'age': 23}, 'User2': {'name': 'Lakhan', 'age': 21}}\n",
      "{'name': 'Pankaj', 'age': 23}\n"
     ]
    }
   ],
   "source": [
    "# Exercise 2: Load a json file and primt out one of the keys. try using build-in json module\n",
    "\n",
    "import json\n",
    "file_path = \"demo.json\"\n",
    "\n",
    "try:\n",
    "    with open(file_path,'r') as file:\n",
    "        data = json.load(file)\n",
    "        print(data)\n",
    "        print(data['User1'])\n",
    "        \n",
    "        \n",
    "except FileNotFoundError:\n",
    "    print(f\"Error: The file {file_path} was not found.\")\n",
    "\n",
    "except json.JSONDecodeError:\n",
    "    print(\"Error: The file content is not a valid JSON format.\")\n",
    "\n",
    "except Exception as e:\n",
    "    print(f\"An unexcepted error occured: {e}\")"
   ]
  },
  {
   "cell_type": "code",
   "execution_count": 10,
   "id": "ea648910",
   "metadata": {},
   "outputs": [],
   "source": [
    "# Exercise 3: Using re to check the mail address\n",
    "\n",
    "import re\n",
    "email = \"hello@example.com\"\n",
    "\n",
    "if (re.match(r\"\\s+\\s+\\.\\s+\",email)):\n",
    "    print(\"LOOKS LIKE MAIL ADDRESS\")"
   ]
  },
  {
   "cell_type": "code",
   "execution_count": 12,
   "id": "e10dd99d",
   "metadata": {},
   "outputs": [
    {
     "name": "stdout",
     "output_type": "stream",
     "text": [
      "shape: (5, 9)\n",
      "┌───────┬────────────┬────────────┬────────────┬───┬───────────┬───────────┬───────────┬───────────┐\n",
      "│ Index ┆ User Id    ┆ First Name ┆ Last Name  ┆ … ┆ Email     ┆ Phone     ┆ Date of   ┆ Job Title │\n",
      "│ ---   ┆ ---        ┆ ---        ┆ ---        ┆   ┆ ---       ┆ ---       ┆ birth     ┆ ---       │\n",
      "│ i64   ┆ str        ┆ str        ┆ str        ┆   ┆ str       ┆ str       ┆ ---       ┆ str       │\n",
      "│       ┆            ┆            ┆            ┆   ┆           ┆           ┆ str       ┆           │\n",
      "╞═══════╪════════════╪════════════╪════════════╪═══╪═══════════╪═══════════╪═══════════╪═══════════╡\n",
      "│ 1     ┆ db484997Aa ┆ Marcia     ┆ Morrison   ┆ … ┆ yvonnemck ┆ 892.956.5 ┆ 1963-06-3 ┆ Set       │\n",
      "│       ┆ 2e723      ┆            ┆            ┆   ┆ night@exa ┆ 029x7469  ┆ 0         ┆ designer  │\n",
      "│       ┆            ┆            ┆            ┆   ┆ mple.net  ┆           ┆           ┆           │\n",
      "│ 2     ┆ B117e5DCAC ┆ Ashley     ┆ Yang       ┆ … ┆ jenningsd ┆ 409985241 ┆ 1922-08-0 ┆ Location  │\n",
      "│       ┆ f270A      ┆            ┆            ┆   ┆ evon@exam ┆ 3         ┆ 4         ┆ manager   │\n",
      "│       ┆            ┆            ┆            ┆   ┆ ple.com   ┆           ┆           ┆           │\n",
      "│ 3     ┆ 32cbC09A5b ┆ Tracie     ┆ Hutchinson ┆ … ┆ drodrigue ┆ 493-888-0 ┆ 1931-08-1 ┆ Retail    │\n",
      "│       ┆ cDb1b      ┆            ┆            ┆   ┆ z@example ┆ 693       ┆ 2         ┆ buyer     │\n",
      "│       ┆            ┆            ┆            ┆   ┆ .net      ┆           ┆           ┆           │\n",
      "│ 4     ┆ 06Eea7aF97 ┆ Jeffrey    ┆ Moody      ┆ … ┆ nburnett@ ┆ 001-654-7 ┆ 1972-10-3 ┆ Engineer, │\n",
      "│       ┆ 60fD0      ┆            ┆            ┆   ┆ example.o ┆ 63-5970x3 ┆ 1         ┆ biomedica │\n",
      "│       ┆            ┆            ┆            ┆   ┆ rg        ┆ 318       ┆           ┆ l         │\n",
      "│ 5     ┆ CE52aEd4F9 ┆ Bill       ┆ Dyer       ┆ … ┆ destinyda ┆ 024-165-5 ┆ 2017-05-2 ┆ Designer, │\n",
      "│       ┆ AE60C      ┆            ┆            ┆   ┆ y@example ┆ 814x001   ┆ 9         ┆ blown gla │\n",
      "│       ┆            ┆            ┆            ┆   ┆ .net      ┆           ┆           ┆ ss/staine │\n",
      "│       ┆            ┆            ┆            ┆   ┆           ┆           ┆           ┆ d …       │\n",
      "└───────┴────────────┴────────────┴────────────┴───┴───────────┴───────────┴───────────┴───────────┘\n"
     ]
    }
   ],
   "source": [
    "# Install and use pola.rs to read a CSV file. Bonus: Print the column names and first 5 rows.\n",
    "\n",
    "import polars as pl\n",
    "df = pl.read_csv('people-500000.csv')\n",
    "print(df.head())"
   ]
  },
  {
   "cell_type": "code",
   "execution_count": 14,
   "id": "78aced11",
   "metadata": {},
   "outputs": [
    {
     "name": "stdout",
     "output_type": "stream",
     "text": [
      "The DET\n",
      "Quick ADJ\n",
      "brown ADJ\n",
      "fox NOUN\n",
      "jump NOUN\n",
      "over ADP\n",
      "the DET\n",
      "crazy ADJ\n",
      "dog NOUN\n"
     ]
    }
   ],
   "source": [
    "#  Use spaCy to analyze a short sentence. What parts of speech does it identify?\n",
    "import spacy\n",
    "nlp = spacy.load(\"en_core_web_sm\")\n",
    "doc = nlp(sentence)\n",
    "\n",
    "for token in doc:\n",
    "    print(token.text, token.pos_)"
   ]
  },
  {
   "cell_type": "code",
   "execution_count": null,
   "id": "758dfa58",
   "metadata": {},
   "outputs": [],
   "source": []
  }
 ],
 "metadata": {
  "kernelspec": {
   "display_name": "dataeng",
   "language": "python",
   "name": "python3"
  },
  "language_info": {
   "codemirror_mode": {
    "name": "ipython",
    "version": 3
   },
   "file_extension": ".py",
   "mimetype": "text/x-python",
   "name": "python",
   "nbconvert_exporter": "python",
   "pygments_lexer": "ipython3",
   "version": "3.10.18"
  }
 },
 "nbformat": 4,
 "nbformat_minor": 5
}
