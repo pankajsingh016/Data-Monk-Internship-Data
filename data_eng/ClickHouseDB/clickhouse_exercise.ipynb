{
 "cells": [
  {
   "cell_type": "code",
   "execution_count": 2,
   "id": "2d90a018",
   "metadata": {},
   "outputs": [],
   "source": [
    "from clickhouse_driver import Client\n",
    "import time\n",
    "import random\n",
    "\n",
    "client = Client('localhost')"
   ]
  },
  {
   "cell_type": "code",
   "execution_count": 3,
   "id": "db3d2b1c",
   "metadata": {},
   "outputs": [
    {
     "name": "stdout",
     "output_type": "stream",
     "text": [
      "Inserted up to id=1000\n",
      "Inserted up to id=2000\n",
      "Inserted up to id=3000\n",
      "Inserted up to id=4000\n",
      "Inserted up to id=5000\n",
      "Inserted up to id=6000\n",
      "Inserted up to id=7000\n",
      "Inserted up to id=8000\n",
      "Inserted up to id=9000\n",
      "Inserted up to id=10000\n",
      "Inserted up to id=11000\n",
      "Inserted up to id=12000\n",
      "Inserted up to id=13000\n",
      "Inserted up to id=14000\n",
      "Inserted up to id=15000\n",
      "Inserted up to id=16000\n",
      "Inserted up to id=17000\n",
      "Inserted up to id=18000\n",
      "Inserted up to id=19000\n",
      "Inserted up to id=20000\n",
      "Inserted up to id=21000\n",
      "Inserted up to id=22000\n",
      "Inserted up to id=23000\n",
      "Inserted up to id=24000\n",
      "Inserted up to id=25000\n",
      "Inserted up to id=26000\n",
      "Inserted up to id=27000\n",
      "Inserted up to id=28000\n",
      "Inserted up to id=29000\n",
      "Inserted up to id=30000\n",
      "Inserted up to id=31000\n",
      "Inserted up to id=32000\n",
      "Inserted up to id=33000\n",
      "Inserted up to id=34000\n",
      "Inserted up to id=35000\n",
      "Inserted up to id=36000\n",
      "Inserted up to id=37000\n",
      "Inserted up to id=38000\n",
      "Inserted up to id=39000\n",
      "Inserted up to id=40000\n",
      "Inserted up to id=41000\n",
      "Inserted up to id=42000\n"
     ]
    },
    {
     "ename": "KeyboardInterrupt",
     "evalue": "",
     "output_type": "error",
     "traceback": [
      "\u001b[0;31m---------------------------------------------------------------------------\u001b[0m",
      "\u001b[0;31mKeyboardInterrupt\u001b[0m                         Traceback (most recent call last)",
      "Cell \u001b[0;32mIn[3], line 10\u001b[0m\n\u001b[1;32m      8\u001b[0m i \u001b[38;5;241m+\u001b[39m\u001b[38;5;241m=\u001b[39m \u001b[38;5;241m1000\u001b[39m\n\u001b[1;32m      9\u001b[0m \u001b[38;5;28mprint\u001b[39m(\u001b[38;5;124mf\u001b[39m\u001b[38;5;124m\"\u001b[39m\u001b[38;5;124mInserted up to id=\u001b[39m\u001b[38;5;132;01m{\u001b[39;00mi\u001b[38;5;132;01m}\u001b[39;00m\u001b[38;5;124m\"\u001b[39m)\n\u001b[0;32m---> 10\u001b[0m \u001b[43mtime\u001b[49m\u001b[38;5;241;43m.\u001b[39;49m\u001b[43msleep\u001b[49m\u001b[43m(\u001b[49m\u001b[38;5;241;43m0.2\u001b[39;49m\u001b[43m)\u001b[49m  \u001b[38;5;66;03m# control insert speed\u001b[39;00m\n",
      "\u001b[0;31mKeyboardInterrupt\u001b[0m: "
     ]
    }
   ],
   "source": [
    "i = 0\n",
    "while True:\n",
    "    batch = [(i + j, random.random()) for j in range(1000)]  # batch insert 1000 rows\n",
    "    client.execute(\n",
    "        \"INSERT INTO workload_test.live_data (id, value) VALUES\",\n",
    "        batch\n",
    "    )\n",
    "    i += 1000\n",
    "    print(f\"Inserted up to id={i}\")\n",
    "    time.sleep(0.2)  # control insert speed"
   ]
  },
  {
   "cell_type": "code",
   "execution_count": null,
   "id": "f0bafafd",
   "metadata": {},
   "outputs": [],
   "source": [
    "while True:\n",
    "    result = client.execute(\"\"\"\n",
    "                            SELECT count() AS rows,\n",
    "                            avg(value)  As avg_val,\n",
    "                            max(created_at) As latest\n",
    "                            FROM workload_test.live_data\n",
    "                            \"\"\")\n",
    "    print(result)\n",
    "    time.sleep(0.5)"
   ]
  },
  {
   "cell_type": "code",
   "execution_count": null,
   "id": "a632db11",
   "metadata": {},
   "outputs": [],
   "source": []
  }
 ],
 "metadata": {
  "kernelspec": {
   "display_name": "dataeng",
   "language": "python",
   "name": "python3"
  },
  "language_info": {
   "codemirror_mode": {
    "name": "ipython",
    "version": 3
   },
   "file_extension": ".py",
   "mimetype": "text/x-python",
   "name": "python",
   "nbconvert_exporter": "python",
   "pygments_lexer": "ipython3",
   "version": "3.10.18"
  }
 },
 "nbformat": 4,
 "nbformat_minor": 5
}
